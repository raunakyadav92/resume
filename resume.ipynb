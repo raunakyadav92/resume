{
  "nbformat": 4,
  "nbformat_minor": 0,
  "metadata": {
    "colab": {
      "provenance": [],
      "authorship_tag": "ABX9TyM2xGggu5nGGxfd0MlZsd4B",
      "include_colab_link": true
    },
    "kernelspec": {
      "name": "python3",
      "display_name": "Python 3"
    },
    "language_info": {
      "name": "python"
    }
  },
  "cells": [
    {
      "cell_type": "markdown",
      "metadata": {
        "id": "view-in-github",
        "colab_type": "text"
      },
      "source": [
        "<a href=\"https://colab.research.google.com/github/raunakyadav92/resume/blob/main/resume.ipynb\" target=\"_parent\"><img src=\"https://colab.research.google.com/assets/colab-badge.svg\" alt=\"Open In Colab\"/></a>"
      ]
    },
    {
      "cell_type": "code",
      "execution_count": null,
      "metadata": {
        "id": "3WdeF_k0LAsl"
      },
      "outputs": [],
      "source": [
        "def create_resume(name, contact, email, linkedin, education, skills, projects, strengths):\n",
        "    with open(\"Raunak_Resume.txt\", \"w\") as file:\n",
        "        file.write(f\"{name}\\n\")\n",
        "        file.write(f\"Contact: {contact} | Email: {email} | LinkedIn: {linkedin}\\n\")\n",
        "        file.write(\"-\" * 50 + \"\\n\")\n",
        "        file.write(\"Education:\\n\")\n",
        "        for edu in education:\n",
        "            file.write(f\"- {edu}\\n\")\n",
        "        file.write(\"\\nSkills:\\n\")\n",
        "        for skill in skills:\n",
        "            file.write(f\"- {skill}\\n\")\n",
        "        file.write(\"\\nProjects:\\n\")\n",
        "        for proj in projects:\n",
        "            file.write(f\"- {proj}\\n\")\n",
        "        file.write(\"\\nStrengths:\\n\")\n",
        "        for stren in strengths:\n",
        "            file.write(f\"- {stren}\\n\")\n",
        "        file.write(\"\\nDeclaration:\\nI hereby declare that the information provided is true to the best of my knowledge.\\n\")\n",
        "\n",
        "# Sample Data\n",
        "create_resume(\n",
        "    name=\"Raunak Yadav\",\n",
        "    contact=\"+91-XXXXXXXXXX\",\n",
        "    email=\"raunak.email@example.com\",\n",
        "    linkedin=\"linkedin.com/in/raunak-yadav\",\n",
        "    education=[\n",
        "        \"B.E. Computer Science, Thapar Institute of Engineering and Technology (2024-Present)\",\n",
        "        \"Class 12 (Science), Govt Sr. Sec Smart School, Patiala (2024)\"\n",
        "    ],\n",
        "    skills=[\n",
        "        \"Python, C++, HTML, JavaScript\",\n",
        "        \"Arduino Projects, AI Puzzle Solvers, Game Development\"\n",
        "    ],\n",
        "    projects=[\n",
        "        \"AI Puzzle Solver in Python\",\n",
        "        \"Math Quiz Game with Timer\",\n",
        "        \"Arduino-based Temperature Monitor with Python\"\n",
        "    ],\n",
        "    strengths=[\n",
        "        \"Quick Learner\",\n",
        "        \"Presentation & Communication Skills\",\n",
        "        \"Interest in Tech & Gadgets\"\n",
        "    ]\n",
        ")\n"
      ]
    }
  ]
}